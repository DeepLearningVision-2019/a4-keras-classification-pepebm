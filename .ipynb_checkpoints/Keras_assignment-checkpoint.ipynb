{
 "cells": [
  {
   "cell_type": "markdown",
   "metadata": {
    "colab_type": "text",
    "id": "XWSsPfsll5kx"
   },
   "source": [
    "# Classify different data sets"
   ]
  },
  {
   "cell_type": "markdown",
   "metadata": {
    "colab_type": "text",
    "id": "T5XBu34Wl5kz"
   },
   "source": [
    "### Basic includes"
   ]
  },
  {
   "cell_type": "code",
   "execution_count": 2,
   "metadata": {
    "ExecuteTime": {
     "end_time": "2019-02-19T19:44:52.588152Z",
     "start_time": "2019-02-19T19:44:48.708451Z"
    },
    "colab": {},
    "colab_type": "code",
    "id": "tEDY-J97l5k1"
   },
   "outputs": [
    {
     "name": "stderr",
     "output_type": "stream",
     "text": [
      "Using TensorFlow backend.\n"
     ]
    }
   ],
   "source": [
    "# Using pandas to load the csv file\n",
    "import pandas as pd\n",
    "\n",
    "import numpy as np\n",
    "import matplotlib.pyplot as plt\n",
    "\n",
    "from keras import models \n",
    "from keras import layers \n",
    "from keras import callbacks\n",
    "from keras.utils import to_categorical\n",
    "\n",
    "# reuters and fashin mnist data set from keras\n",
    "from keras.datasets import reuters\n",
    "from keras.datasets import fashion_mnist\n",
    "\n",
    "# needed to preprocess text\n",
    "from keras.preprocessing.text import Tokenizer"
   ]
  },
  {
   "cell_type": "markdown",
   "metadata": {
    "colab_type": "text",
    "id": "BfhhzSmLl5k9"
   },
   "source": [
    "### Classify the Fashion Mnist\n",
    "\n",
    "---"
   ]
  },
  {
   "cell_type": "code",
   "execution_count": 86,
   "metadata": {
    "colab": {
     "base_uri": "https://localhost:8080/",
     "height": 396
    },
    "colab_type": "code",
    "id": "riikignol5k-",
    "outputId": "83b8feb5-0df1-4946-ea7f-aad81964ee11"
   },
   "outputs": [
    {
     "name": "stdout",
     "output_type": "stream",
     "text": [
      "(60000, 28, 28)\n"
     ]
    },
    {
     "data": {
      "text/plain": [
       "<matplotlib.image.AxesImage at 0x7facef2f0940>"
      ]
     },
     "execution_count": 86,
     "metadata": {
      "tags": []
     },
     "output_type": "execute_result"
    },
    {
     "data": {
      "image/png": "[encoded data removed]",
      "text/plain": [
       "<Figure size 576x396 with 1 Axes>"
      ]
     },
     "metadata": {
      "tags": []
     },
     "output_type": "display_data"
    }
   ],
   "source": [
    "(fashion_train_data, fashion_train_labels), (fashion_test_data, fashion_test_labels) = fashion_mnist.load_data()\n",
    "fashion_class_labels = [\n",
    "    'T-shirt/top', 'Trouser', 'Pullover', 'Dress', 'Coat', 'Sandal', 'Shirt', 'Sneaker', 'Bag', 'Ankle boot'\n",
    "]\n",
    "print(fashion_train_data.shape)\n",
    "\n",
    "test_index = 10\n",
    "\n",
    "plt.title(\"Label: \" + fashion_class_labels[fashion_train_labels[test_index]])\n",
    "plt.imshow(fashion_train_data[test_index], cmap=\"gray\")"
   ]
  },
  {
   "cell_type": "markdown",
   "metadata": {
    "colab_type": "text",
    "id": "EzIrzKLxl5lE"
   },
   "source": [
    "#### TO DO: Preprocess the data\n",
    "\n",
    "1. Normalize the input data set\n",
    "2. Perform one hot encoding\n",
    "3. Create a train, test, and validation set"
   ]
  },
  {
   "cell_type": "code",
   "execution_count": 0,
   "metadata": {
    "colab": {},
    "colab_type": "code",
    "id": "miATWUvMl5lF"
   },
   "outputs": [],
   "source": [
    "# Normalize the input data set\n",
    "# flatten images\n",
    "fashion_train_data = fashion_train_data.reshape((60000, 784))\n",
    "fashion_train_data = fashion_train_data.astype('float32') / 255\n",
    "\n",
    "fashion_test_data = fashion_test_data.reshape((10000, 784)) \n",
    "fashion_test_data = fashion_test_data.astype('float32') / 255\n",
    "\n",
    "# one hot encoding\n",
    "fashion_train_labels = to_categorical(fashion_train_labels) \n",
    "fashion_test_labels = to_categorical(fashion_test_labels)\n",
    "\n",
    "validation_set_labels = fashion_train_labels[50000:]\n",
    "validation_set = fashion_train_data[50000:]\n",
    "\n",
    "training_set_labels = fashion_train_labels[:50000]\n",
    "training_set = fashion_train_data[:50000]"
   ]
  },
  {
   "cell_type": "markdown",
   "metadata": {
    "colab_type": "text",
    "id": "3zxY-WeUl5lK"
   },
   "source": [
    "#### TO DO: Define and train a network, then plot the accuracy of the training, validation, and testing\n",
    "\n",
    "1. Use a validation set\n",
    "2. Propose and train a network\n",
    "3. Print the history of the training\n",
    "4. Evaluate with a test set"
   ]
  },
  {
   "cell_type": "code",
   "execution_count": 88,
   "metadata": {
    "colab": {
     "base_uri": "https://localhost:8080/",
     "height": 340
    },
    "colab_type": "code",
    "id": "vlup3wBx0WyE",
    "outputId": "7ddbbcc1-1d47-4b90-b221-d7a1c37b731c"
   },
   "outputs": [
    {
     "name": "stdout",
     "output_type": "stream",
     "text": [
      "_________________________________________________________________\n",
      "Layer (type)                 Output Shape              Param #   \n",
      "=================================================================\n",
      "dense_47 (Dense)             (None, 1024)              803840    \n",
      "_________________________________________________________________\n",
      "dropout_17 (Dropout)         (None, 1024)              0         \n",
      "_________________________________________________________________\n",
      "dense_48 (Dense)             (None, 256)               262400    \n",
      "_________________________________________________________________\n",
      "dense_49 (Dense)             (None, 128)               32896     \n",
      "_________________________________________________________________\n",
      "dropout_18 (Dropout)         (None, 128)               0         \n",
      "_________________________________________________________________\n",
      "dense_50 (Dense)             (None, 10)                1290      \n",
      "=================================================================\n",
      "Total params: 1,100,426\n",
      "Trainable params: 1,100,426\n",
      "Non-trainable params: 0\n",
      "_________________________________________________________________\n"
     ]
    }
   ],
   "source": [
    "# Crate NN\n",
    "\n",
    "nn_fashion_model = models.Sequential()\n",
    "fashion_dropout = 0.3\n",
    "\n",
    "nn_fashion_model.add(layers.Dense(1024, activation= \"relu\", input_shape= (784,)))\n",
    "\n",
    "nn_fashion_model.add(layers.Dropout(fashion_dropout))\n",
    "\n",
    "nn_fashion_model.add(layers.Dense(256, activation=\"relu\"))\n",
    "nn_fashion_model.add(layers.Dense(128, activation=\"relu\"))\n",
    "\n",
    "nn_fashion_model.add(layers.Dropout(fashion_dropout))\n",
    "\n",
    "# Last layer, same size has the number of categories\n",
    "nn_fashion_model.add(layers.Dense(10, activation=\"softmax\"))\n",
    "\n",
    "\n",
    "\n",
    "nn_fashion_early_stops = [\n",
    "    callbacks.EarlyStopping(monitor= 'val_loss', patience= 4)\n",
    "]\n",
    "\n",
    "nn_fashion_model.compile(\n",
    "    loss= \"categorical_crossentropy\", optimizer= \"adam\", metrics= [\"accuracy\"]\n",
    ")\n",
    "\n",
    "nn_fashion_model.summary()"
   ]
  },
  {
   "cell_type": "code",
   "execution_count": 89,
   "metadata": {
    "colab": {
     "base_uri": "https://localhost:8080/",
     "height": 578
    },
    "colab_type": "code",
    "id": "MS-AgykwMKK1",
    "outputId": "c87c3110-6273-4719-c3b3-c4ca55aec681"
   },
   "outputs": [
    {
     "name": "stdout",
     "output_type": "stream",
     "text": [
      "Train on 60000 samples, validate on 10000 samples\n",
      "Epoch 1/16\n",
      " - 8s - loss: 0.7594 - acc: 0.7338 - val_loss: 0.4379 - val_acc: 0.8434\n",
      "Epoch 2/16\n",
      " - 7s - loss: 0.4523 - acc: 0.8404 - val_loss: 0.3780 - val_acc: 0.8627\n",
      "Epoch 3/16\n",
      " - 7s - loss: 0.3956 - acc: 0.8588 - val_loss: 0.3368 - val_acc: 0.8777\n",
      "Epoch 4/16\n",
      " - 7s - loss: 0.3634 - acc: 0.8692 - val_loss: 0.3245 - val_acc: 0.8812\n",
      "Epoch 5/16\n",
      " - 7s - loss: 0.3418 - acc: 0.8758 - val_loss: 0.3016 - val_acc: 0.8895\n",
      "Epoch 6/16\n",
      " - 8s - loss: 0.3206 - acc: 0.8832 - val_loss: 0.2827 - val_acc: 0.8957\n",
      "Epoch 7/16\n",
      " - 8s - loss: 0.3106 - acc: 0.8865 - val_loss: 0.2850 - val_acc: 0.8949\n",
      "Epoch 8/16\n",
      " - 7s - loss: 0.3032 - acc: 0.8897 - val_loss: 0.2718 - val_acc: 0.8949\n",
      "Epoch 9/16\n",
      " - 7s - loss: 0.2951 - acc: 0.8915 - val_loss: 0.2719 - val_acc: 0.8972\n",
      "Epoch 10/16\n",
      " - 8s - loss: 0.2813 - acc: 0.8959 - val_loss: 0.2448 - val_acc: 0.9105\n",
      "Epoch 11/16\n",
      " - 7s - loss: 0.2728 - acc: 0.8990 - val_loss: 0.2459 - val_acc: 0.9050\n",
      "Epoch 12/16\n",
      " - 7s - loss: 0.2696 - acc: 0.8997 - val_loss: 0.2335 - val_acc: 0.9101\n",
      "Epoch 13/16\n",
      " - 7s - loss: 0.2591 - acc: 0.9043 - val_loss: 0.2241 - val_acc: 0.9148\n",
      "Epoch 14/16\n",
      " - 7s - loss: 0.2564 - acc: 0.9056 - val_loss: 0.2170 - val_acc: 0.9170\n",
      "Epoch 15/16\n",
      " - 7s - loss: 0.2504 - acc: 0.9066 - val_loss: 0.2166 - val_acc: 0.9173\n",
      "Epoch 16/16\n",
      " - 7s - loss: 0.2433 - acc: 0.9080 - val_loss: 0.2176 - val_acc: 0.9173\n"
     ]
    }
   ],
   "source": [
    "# Train the NN model\n",
    "fashion_epochs = 16\n",
    "nn_fashion_history = nn_fashion_model.fit(\n",
    "    fashion_train_data,\n",
    "    fashion_train_labels,\n",
    "    batch_size= 1024,\n",
    "    epochs= fashion_epochs,\n",
    "    verbose= 2,\n",
    "    callbacks= nn_fashion_early_stops,\n",
    "    validation_data= (validation_set, validation_set_labels)\n",
    ")"
   ]
  },
  {
   "cell_type": "code",
   "execution_count": 90,
   "metadata": {
    "colab": {
     "base_uri": "https://localhost:8080/",
     "height": 51
    },
    "colab_type": "code",
    "id": "6JdTQrYSl5lL",
    "outputId": "5f92bf54-8720-4ae5-f88c-89e046fdc35e"
   },
   "outputs": [
    {
     "name": "stdout",
     "output_type": "stream",
     "text": [
      "10000/10000 [==============================] - 1s 105us/step\n",
      "Fashion score: 88.74%\n"
     ]
    }
   ],
   "source": [
    "fashion_result = nn_fashion_model.evaluate(fashion_test_data, fashion_test_labels)\n",
    "print('Fashion score: {}%'.format(fashion_result[1]*100))"
   ]
  },
  {
   "cell_type": "code",
   "execution_count": 91,
   "metadata": {
    "colab": {
     "base_uri": "https://localhost:8080/",
     "height": 376
    },
    "colab_type": "code",
    "id": "F86f1aqsbN-S",
    "outputId": "96091122-e0e7-42c4-dff0-e52fdff03de8"
   },
   "outputs": [
    {
     "data": {
      "image/png": "[encoded data removed]",
      "text/plain": [
       "<Figure size 576x396 with 1 Axes>"
      ]
     },
     "metadata": {
      "tags": []
     },
     "output_type": "display_data"
    }
   ],
   "source": [
    "fashion_history  = nn_fashion_history.history\n",
    "fashion_loss     = fashion_history['loss']\n",
    "fashion_val_loss = fashion_history['val_loss']\n",
    "fashion_epochs   = range(1, len(fashion_loss) + 1)\n",
    "\n",
    "plt.plot(fashion_epochs, fashion_loss, 'go', label='Training Loss')\n",
    "plt.plot(fashion_epochs, fashion_val_loss, 'r', label='Validation Loss')\n",
    "\n",
    "plt.title('Fashion Data - Loss')\n",
    "plt.xlabel('Epochs')\n",
    "plt.ylabel('Loss')\n",
    "plt.legend()\n",
    "\n",
    "plt.show()"
   ]
  },
  {
   "cell_type": "code",
   "execution_count": 92,
   "metadata": {
    "colab": {
     "base_uri": "https://localhost:8080/",
     "height": 376
    },
    "colab_type": "code",
    "id": "Jg2hCEZSbV79",
    "outputId": "467a660b-0fca-49a7-f1a0-e04ca0b6b6ea"
   },
   "outputs": [
    {
     "data": {
      "image/png": "[encoded data removed]",
      "text/plain": [
       "<Figure size 576x396 with 1 Axes>"
      ]
     },
     "metadata": {
      "tags": []
     },
     "output_type": "display_data"
    }
   ],
   "source": [
    "fashion_acc     = fashion_history['acc']\n",
    "fashion_val_acc = fashion_history['val_acc']\n",
    "\n",
    "plt.plot(fashion_epochs, fashion_acc, 'go', label='Training Acc')\n",
    "plt.plot(fashion_epochs, fashion_val_acc, 'r', label='Validation Acc')\n",
    "\n",
    "plt.title('Fashion Data - Accuracy')\n",
    "plt.xlabel('Epochs')\n",
    "plt.ylabel('Loss')\n",
    "plt.legend()\n",
    "\n",
    "plt.show()"
   ]
  },
  {
   "cell_type": "markdown",
   "metadata": {},
   "source": [
    "# Fashion conclusion\n",
    "> In this model I first did over fitting so making the model network complex, from that point I moved some hyper parameters and successfully achieved a score above 85%."
   ]
  },
  {
   "cell_type": "markdown",
   "metadata": {
    "colab_type": "text",
    "id": "wy2ylr_nl5lR"
   },
   "source": [
    "## Classifying newswires\n",
    "\n",
    "---\n",
    "\n",
    "Build a network to classify Reuters newswires into 46 different mutually-exclusive topics."
   ]
  },
  {
   "cell_type": "markdown",
   "metadata": {
    "colab_type": "text",
    "id": "keWnxT4Cl5lS"
   },
   "source": [
    "### Load and review the data"
   ]
  },
  {
   "cell_type": "code",
   "execution_count": 93,
   "metadata": {
    "colab": {
     "base_uri": "https://localhost:8080/",
     "height": 142
    },
    "colab_type": "code",
    "id": "s-PzMf8sl5lT",
    "outputId": "1aa20f07-052f-4a57-ada6-9683630c82eb"
   },
   "outputs": [
    {
     "name": "stdout",
     "output_type": "stream",
     "text": [
      "(8982,)\n",
      "(8982,)\n",
      "[1, 2, 2, 8, 43, 10, 447, 5, 25, 207, 270, 5, 3095, 111, 16, 369, 186, 90, 67, 7, 89, 5, 19, 102, 6, 19, 124, 15, 90, 67, 84, 22, 482, 26, 7, 48, 4, 49, 8, 864, 39, 209, 154, 6, 151, 6, 83, 11, 15, 22, 155, 11, 15, 7, 48, 9, 4579, 1005, 504, 6, 258, 6, 272, 11, 15, 22, 134, 44, 11, 15, 16, 8, 197, 1245, 90, 67, 52, 29, 209, 30, 32, 132, 6, 109, 15, 17, 12]\n",
      "3\n",
      "{0, 1, 2, 3, 4, 5, 6, 7, 8, 9, 10, 11, 12, 13, 14, 15, 16, 17, 18, 19, 20, 21, 22, 23, 24, 25, 26, 27, 28, 29, 30, 31, 32, 33, 34, 35, 36, 37, 38, 39, 40, 41, 42, 43, 44, 45}\n"
     ]
    }
   ],
   "source": [
    "reuters_max_words = 10000\n",
    "(reuters_train_data, reuters_train_labels), (reuters_test_data, reuters_test_labels) = reuters.load_data(num_words=reuters_max_words)\n",
    "\n",
    "print(reuters_train_data.shape)\n",
    "print(reuters_train_labels.shape)\n",
    "print(reuters_train_data[0])\n",
    "print(reuters_train_labels[0])\n",
    "\n",
    "print(set(reuters_train_labels))"
   ]
  },
  {
   "cell_type": "markdown",
   "metadata": {
    "colab_type": "text",
    "id": "SYsETBNml5lV"
   },
   "source": [
    "Load the word index to decode the train data."
   ]
  },
  {
   "cell_type": "code",
   "execution_count": 94,
   "metadata": {
    "colab": {
     "base_uri": "https://localhost:8080/",
     "height": 74
    },
    "colab_type": "code",
    "id": "sHzHqHHLl5lW",
    "outputId": "895fccb2-70b7-4e2c-9c5d-10fdb04a78d6"
   },
   "outputs": [
    {
     "name": "stdout",
     "output_type": "stream",
     "text": [
      "<START> <UNKNOWN> <UNKNOWN> said as a result of its december acquisition of space co it expects earnings per share in 1987 of 1 15 to 1 30 dlrs per share up from 70 cts in 1986 the company said pretax net should rise to nine to 10 mln dlrs from six mln dlrs in 1986 and rental operation revenues to 19 to 22 mln dlrs from 12 5 mln dlrs it said cash flow per share this year should be 2 50 to three dlrs reuter 3\n"
     ]
    }
   ],
   "source": [
    "word_index = reuters.get_word_index()\n",
    "\n",
    "reverse_index = dict([(value+3, key) for (key, value) in word_index.items()])\n",
    "\n",
    "reverse_index[0] = \"<PAD>\"\n",
    "reverse_index[1] = \"<START>\"\n",
    "reverse_index[2] = \"<UNKNOWN>\"  # unknown\n",
    "reverse_index[3] = \"<UNUSED>\"\n",
    "\n",
    "decoded_review = ' '.join([reverse_index.get(i,'?') for i in reuters_train_data[0]])\n",
    "\n",
    "print(decoded_review)"
   ]
  },
  {
   "cell_type": "markdown",
   "metadata": {
    "colab_type": "text",
    "id": "abAQrZzEl5lY"
   },
   "source": [
    "#### TO DO: Preprocess the data\n",
    "\n",
    "1. Normalize the input data set\n",
    "2. Perform one hot encoding\n",
    "3. Create a train, test, and validation set"
   ]
  },
  {
   "cell_type": "code",
   "execution_count": 95,
   "metadata": {
    "colab": {
     "base_uri": "https://localhost:8080/",
     "height": 170
    },
    "colab_type": "code",
    "id": "ZKf7i1Gsyc5t",
    "outputId": "36ebb469-6647-4400-8468-5a04ddca2522"
   },
   "outputs": [
    {
     "name": "stdout",
     "output_type": "stream",
     "text": [
      "train:\n",
      "(7982, 10000)\n",
      "(7982, 46)\n",
      "val:\n",
      "(1000, 10000)\n",
      "(1000, 46)\n",
      "test:\n",
      "(2246, 10000)\n",
      "(2246, 46)\n"
     ]
    }
   ],
   "source": [
    "tokenizer = Tokenizer(num_words= reuters_max_words)\n",
    "\n",
    "reuters_train_data_token = tokenizer.sequences_to_matrix(\n",
    "    reuters_train_data, mode=\"binary\"\n",
    ")\n",
    "reuters_test_data_token = tokenizer.sequences_to_matrix(\n",
    "    reuters_test_data, mode=\"binary\"\n",
    ")\n",
    "\n",
    "reuters_one_hot_train_labels = to_categorical(reuters_train_labels)\n",
    "reuters_one_hot_test_labels  = to_categorical(reuters_test_labels)\n",
    "\n",
    "reuters_val_data   = reuters_train_data_token[:1000]\n",
    "reuters_val_labels = reuters_one_hot_train_labels[:1000]\n",
    "\n",
    "reuters_train_data   = reuters_train_data_token[1000:]\n",
    "reuters_train_labels = reuters_one_hot_train_labels[1000:]\n",
    "\n",
    "print('train:')\n",
    "print(reuters_train_data.shape)\n",
    "print(reuters_train_labels.shape)\n",
    "print('val:')\n",
    "print(reuters_val_data.shape)\n",
    "print(reuters_val_labels.shape)\n",
    "print('test:')\n",
    "print(reuters_test_data_token.shape)\n",
    "print(reuters_one_hot_test_labels.shape)"
   ]
  },
  {
   "cell_type": "markdown",
   "metadata": {
    "colab_type": "text",
    "id": "b4_WzBhll5lZ"
   },
   "source": [
    "#### TO DO: Define and train a network, then plot the accuracy of the training, validation, and testing\n",
    "\n",
    "1. Use a validation set\n",
    "2. Propose and train a network\n",
    "3. Print the history of the training\n",
    "4. Evaluate with a test set"
   ]
  },
  {
   "cell_type": "code",
   "execution_count": 96,
   "metadata": {
    "colab": {
     "base_uri": "https://localhost:8080/",
     "height": 340
    },
    "colab_type": "code",
    "id": "eB-JJ9D8OMnw",
    "outputId": "1f87b65d-c3b6-4205-dc9b-7ab74e638fec"
   },
   "outputs": [
    {
     "name": "stdout",
     "output_type": "stream",
     "text": [
      "_________________________________________________________________\n",
      "Layer (type)                 Output Shape              Param #   \n",
      "=================================================================\n",
      "dense_51 (Dense)             (None, 1024)              10241024  \n",
      "_________________________________________________________________\n",
      "dropout_19 (Dropout)         (None, 1024)              0         \n",
      "_________________________________________________________________\n",
      "dense_52 (Dense)             (None, 256)               262400    \n",
      "_________________________________________________________________\n",
      "dense_53 (Dense)             (None, 128)               32896     \n",
      "_________________________________________________________________\n",
      "dropout_20 (Dropout)         (None, 128)               0         \n",
      "_________________________________________________________________\n",
      "dense_54 (Dense)             (None, 46)                5934      \n",
      "=================================================================\n",
      "Total params: 10,542,254\n",
      "Trainable params: 10,542,254\n",
      "Non-trainable params: 0\n",
      "_________________________________________________________________\n"
     ]
    }
   ],
   "source": [
    "reuters_model   = models.Sequential()\n",
    "reuters_dropout = 0.2\n",
    "\n",
    "reuters_model.add(layers.Dense(1024, activation=\"tanh\", input_dim=10000))\n",
    "\n",
    "reuters_model.add(layers.Dropout(reuters_dropout))\n",
    "\n",
    "reuters_model.add(layers.Dense(256, activation=\"relu\"))\n",
    "reuters_model.add(layers.Dense(128, activation=\"relu\"))\n",
    "\n",
    "reuters_model.add(layers.Dropout(reuters_dropout))\n",
    "\n",
    "reuters_model.add(layers.Dense(46, activation=\"softmax\"))\n",
    "\n",
    "reuters_model.compile(\n",
    "    loss= \"categorical_crossentropy\", \n",
    "    optimizer= \"adamax\", \n",
    "    metrics= [\"accuracy\"]\n",
    ")\n",
    "\n",
    "reuters_model.summary()\n",
    "\n",
    "\n",
    "reuters_early_stops = [\n",
    "    callbacks.EarlyStopping(monitor= 'val_loss', patience= 4),\n",
    "    callbacks.EarlyStopping(monitor= 'val_acc',  patience= 5)\n",
    "]"
   ]
  },
  {
   "cell_type": "code",
   "execution_count": 97,
   "metadata": {
    "colab": {
     "base_uri": "https://localhost:8080/",
     "height": 340
    },
    "colab_type": "code",
    "id": "efD8HUvvPglQ",
    "outputId": "0ca6ab58-01d2-4b66-837c-cba0eba3f14f"
   },
   "outputs": [
    {
     "name": "stdout",
     "output_type": "stream",
     "text": [
      "Train on 7982 samples, validate on 1000 samples\n",
      "Epoch 1/16\n",
      " - 8s - loss: 2.5642 - acc: 0.4818 - val_loss: 1.5615 - val_acc: 0.6560\n",
      "Epoch 2/16\n",
      " - 7s - loss: 1.3029 - acc: 0.7129 - val_loss: 1.1722 - val_acc: 0.7310\n",
      "Epoch 3/16\n",
      " - 7s - loss: 0.9083 - acc: 0.7968 - val_loss: 0.9980 - val_acc: 0.7890\n",
      "Epoch 4/16\n",
      " - 7s - loss: 0.6427 - acc: 0.8513 - val_loss: 0.9031 - val_acc: 0.8120\n",
      "Epoch 5/16\n",
      " - 7s - loss: 0.4676 - acc: 0.8968 - val_loss: 0.8801 - val_acc: 0.8220\n",
      "Epoch 6/16\n",
      " - 7s - loss: 0.3395 - acc: 0.9266 - val_loss: 0.9141 - val_acc: 0.8120\n",
      "Epoch 7/16\n",
      " - 7s - loss: 0.2594 - acc: 0.9381 - val_loss: 0.9113 - val_acc: 0.8210\n",
      "Epoch 8/16\n",
      " - 7s - loss: 0.2066 - acc: 0.9461 - val_loss: 0.9337 - val_acc: 0.8160\n",
      "Epoch 9/16\n",
      " - 7s - loss: 0.1731 - acc: 0.9544 - val_loss: 0.9800 - val_acc: 0.8180\n"
     ]
    }
   ],
   "source": [
    "reuters_model_history = reuters_model.fit(\n",
    "    reuters_train_data,\n",
    "    reuters_train_labels,\n",
    "    batch_size= 1024,\n",
    "    epochs= 16,\n",
    "    verbose= 2,\n",
    "    callbacks= reuters_early_stops,\n",
    "    validation_data= (reuters_val_data, reuters_val_labels)\n",
    ")"
   ]
  },
  {
   "cell_type": "code",
   "execution_count": 98,
   "metadata": {
    "colab": {
     "base_uri": "https://localhost:8080/",
     "height": 51
    },
    "colab_type": "code",
    "id": "cwQj4I-IT0ZQ",
    "outputId": "f45f6b97-07b7-4b19-f41b-488e0de2e5dd"
   },
   "outputs": [
    {
     "name": "stdout",
     "output_type": "stream",
     "text": [
      "2246/2246 [==============================] - 2s 721us/step\n",
      "Fashion score: 80.00890471950134%\n"
     ]
    }
   ],
   "source": [
    "reuters_result = reuters_model.evaluate(\n",
    "    reuters_test_data_token, \n",
    "    reuters_one_hot_test_labels\n",
    ")\n",
    "\n",
    "print('Fashion score: {}%'.format(reuters_result[1]*100))"
   ]
  },
  {
   "cell_type": "code",
   "execution_count": 100,
   "metadata": {
    "colab": {
     "base_uri": "https://localhost:8080/",
     "height": 376
    },
    "colab_type": "code",
    "id": "cSWzgd8ibEV9",
    "outputId": "dfc1159a-325f-4158-e171-fbf1a5eb6d9b"
   },
   "outputs": [
    {
     "data": {
      "image/png": "[encoded data removed]",
      "text/plain": [
       "<Figure size 576x396 with 1 Axes>"
      ]
     },
     "metadata": {
      "tags": []
     },
     "output_type": "display_data"
    }
   ],
   "source": [
    "reuters_history  = reuters_model_history.history\n",
    "reuters_loss     = reuters_history['loss']\n",
    "reuters_val_loss = reuters_history['val_loss']\n",
    "reuters_epochs   = range(1, len(reuters_loss) + 1)\n",
    "\n",
    "plt.plot(reuters_epochs, reuters_loss, 'go', label='Training Loss')\n",
    "plt.plot(reuters_epochs, reuters_val_loss, 'r', label='Validation Loss')\n",
    "\n",
    "plt.title('Reuters Data - Loss')\n",
    "plt.xlabel('Epochs')\n",
    "plt.ylabel('Loss')\n",
    "plt.legend()\n",
    "\n",
    "plt.show()"
   ]
  },
  {
   "cell_type": "code",
   "execution_count": 101,
   "metadata": {
    "colab": {
     "base_uri": "https://localhost:8080/",
     "height": 376
    },
    "colab_type": "code",
    "id": "XOUAaWD_abOj",
    "outputId": "58799ba7-24b3-4c0b-96f8-b674ba36db7d"
   },
   "outputs": [
    {
     "data": {
      "image/png": "[encoded data removed]",
      "text/plain": [
       "<Figure size 576x396 with 1 Axes>"
      ]
     },
     "metadata": {
      "tags": []
     },
     "output_type": "display_data"
    }
   ],
   "source": [
    "reuters_acc     = reuters_history['acc']\n",
    "reuters_val_acc = reuters_history['val_acc']\n",
    "\n",
    "plt.plot(reuters_epochs, reuters_acc, 'go', label='Training Acc')\n",
    "plt.plot(reuters_epochs, reuters_val_acc, 'r', label='Validation Acc')\n",
    "\n",
    "plt.title('Reuters Data - Accuracy')\n",
    "\n",
    "plt.xlabel('Epochs')\n",
    "plt.ylabel('Accuracy')\n",
    "plt.legend()\n",
    "plt.show()"
   ]
  },
  {
   "cell_type": "markdown",
   "metadata": {},
   "source": [
    "# Reuters conclusion\n",
    "\n",
    "> 1. This model was harder to achieve the accuracy goal. Like the past model, first, I over fitted the model but the accuracy in that point was at it's lowest in all the exercise.\n",
    "> 2. Moving hyper parameters wasn't getting me closer to the goal. Neither changing my preprocessing work flow.\n",
    "> 3. My final conclusion is that I couldn't get an final accuracy higher than 78% 'cause of the dataset values. My hypothesis is the data is not evenly given to me so I have more cases of 1 category than another. "
   ]
  },
  {
   "cell_type": "markdown",
   "metadata": {
    "colab_type": "text",
    "id": "ba2pYW-nl5lZ"
   },
   "source": [
    "## Predicting Student Admissions\n",
    "\n",
    "---\n",
    "\n",
    "Predict student admissions based on three pieces of data:\n",
    "\n",
    "- GRE Scores\n",
    "- GPA Scores\n",
    "- Class rank"
   ]
  },
  {
   "cell_type": "markdown",
   "metadata": {
    "colab_type": "text",
    "id": "1dqFu1D2l5lZ"
   },
   "source": [
    "### Load and visualize the data"
   ]
  },
  {
   "cell_type": "code",
   "execution_count": 3,
   "metadata": {
    "ExecuteTime": {
     "end_time": "2019-02-19T19:44:56.881949Z",
     "start_time": "2019-02-19T19:44:56.856192Z"
    },
    "colab": {},
    "colab_type": "code",
    "id": "5JjwVWsvl5la"
   },
   "outputs": [],
   "source": [
    "student_data = pd.read_csv(\"student_data.csv\")"
   ]
  },
  {
   "cell_type": "markdown",
   "metadata": {
    "colab_type": "text",
    "id": "M--BDojwl5lb"
   },
   "source": [
    "Plot of the GRE and the GPA from the data."
   ]
  },
  {
   "cell_type": "code",
   "execution_count": 103,
   "metadata": {
    "colab": {
     "base_uri": "https://localhost:8080/",
     "height": 361
    },
    "colab_type": "code",
    "id": "QviQ24PQl5lc",
    "outputId": "b5811708-2a62-43d7-e6ed-39d7e90f351e"
   },
   "outputs": [
    {
     "data": {
      "image/png": "[encoded data removed]",
      "text/plain": [
       "<Figure size 576x396 with 1 Axes>"
      ]
     },
     "metadata": {
      "tags": []
     },
     "output_type": "display_data"
    }
   ],
   "source": [
    "X = np.array(student_data[[\"gre\",\"gpa\"]])\n",
    "y = np.array(student_data[\"admit\"])\n",
    "admitted = X[np.argwhere(y==1)]\n",
    "rejected = X[np.argwhere(y==0)]\n",
    "plt.scatter([s[0][0] for s in rejected], [s[0][1] for s in rejected], s = 25, color = 'red', edgecolor = 'k')\n",
    "plt.scatter([s[0][0] for s in admitted], [s[0][1] for s in admitted], s = 25, color = 'cyan', edgecolor = 'k')\n",
    "plt.xlabel('Test (GRE)')\n",
    "plt.ylabel('Grades (GPA)')\n",
    "\n",
    "plt.show()"
   ]
  },
  {
   "cell_type": "markdown",
   "metadata": {
    "colab_type": "text",
    "id": "T49UiWKpl5le"
   },
   "source": [
    "Plot of the data by class rank."
   ]
  },
  {
   "cell_type": "code",
   "execution_count": 104,
   "metadata": {
    "colab": {
     "base_uri": "https://localhost:8080/",
     "height": 660
    },
    "colab_type": "code",
    "id": "55uinMMOl5le",
    "outputId": "f7302657-96d3-4bf7-c2fa-78f29bbbc34c"
   },
   "outputs": [
    {
     "data": {
      "image/png": "[encoded data removed]",
      "text/plain": [
       "<Figure size 1440x720 with 4 Axes>"
      ]
     },
     "metadata": {
      "tags": []
     },
     "output_type": "display_data"
    }
   ],
   "source": [
    "f, plots = plt.subplots(2, 2, figsize=(20,10))\n",
    "plots = [plot for sublist in plots for plot in sublist]\n",
    "\n",
    "for idx, plot in enumerate(plots):\n",
    "    data_rank = student_data[student_data[\"rank\"]==idx+1]\n",
    "    plot.set_title(\"Rank \" + str(idx+1))\n",
    "    X = np.array(data_rank[[\"gre\",\"gpa\"]])\n",
    "    y = np.array(data_rank[\"admit\"])\n",
    "    admitted = X[np.argwhere(y==1)]\n",
    "    rejected = X[np.argwhere(y==0)]\n",
    "    plot.scatter([s[0][0] for s in rejected], [s[0][1] for s in rejected], s = 25, color = 'red', edgecolor = 'k')\n",
    "    plot.scatter([s[0][0] for s in admitted], [s[0][1] for s in admitted], s = 25, color = 'cyan', edgecolor = 'k')\n",
    "    plot.set_xlabel('Test (GRE)')\n",
    "    plot.set_ylabel('Grades (GPA)')\n",
    "    "
   ]
  },
  {
   "cell_type": "markdown",
   "metadata": {
    "colab_type": "text",
    "id": "fBwOVWRJl5lh"
   },
   "source": [
    "#### TO DO: Preprocess the data\n",
    "\n",
    "1. Normalize the input data set\n",
    "2. Perform one hot encoding\n",
    "3. Create a train, test, and validation set"
   ]
  },
  {
   "cell_type": "code",
   "execution_count": 6,
   "metadata": {
    "ExecuteTime": {
     "end_time": "2019-02-19T19:45:11.483427Z",
     "start_time": "2019-02-19T19:45:11.471551Z"
    },
    "colab": {},
    "colab_type": "code",
    "id": "dF9eO3u3g9pP"
   },
   "outputs": [
    {
     "name": "stdout",
     "output_type": "stream",
     "text": [
      "(400, 2)\n"
     ]
    }
   ],
   "source": [
    "# Replace nan with 0\n",
    "student_data.fillna(value= 0, inplace= True)\n",
    "# Shuffle the dataframe with pandas\n",
    "student_data = student_data.sample(frac= 1).reset_index(drop= True)\n",
    "\n",
    "# x\n",
    "gre,   gpa  = np.array(student_data['gre']),   np.array(student_data['gpa'])\n",
    "# y\n",
    "admit, rank = np.array(student_data['admit']), np.array(student_data['rank'])\n",
    "\n",
    "# Make everything in range from 0 - 1 (Normal distribution)\n",
    "gpa = (gpa - gpa.mean(axis= 0)) / gpa.std(axis= 0)\n",
    "gre = (gre - gre.mean(axis= 0)) / gre.std(axis= 0)\n",
    "\n",
    "normalized_student_data = np.zeros((len(gpa), 2))\n",
    "normalized_student_data[:,0], normalized_student_data[:,1] = gpa, gre\n",
    "\n",
    "print(normalized_student_data.shape)\n",
    "\n",
    "# one hot encoding\n",
    "rank_one_hot = to_categorical(rank)\n",
    "\n",
    "# train: 0 300, test: 300 350, val: 350 4000\n",
    "student_train_data   = normalized_student_data[:300]\n",
    "student_train_labels = rank_one_hot[:300]\n",
    "\n",
    "student_test_data    = normalized_student_data[300:350]\n",
    "student_test_labels  = rank_one_hot[300:350]\n",
    "\n",
    "student_val_data     = normalized_student_data[350:]\n",
    "student_val_labels   = rank_one_hot[350:]"
   ]
  },
  {
   "cell_type": "markdown",
   "metadata": {
    "colab_type": "text",
    "id": "bXNfG06yl5li"
   },
   "source": [
    "#### TO DO: Define and train a network, then plot the accuracy of the training, validation, and testing\n",
    "\n",
    "1. Use a validation set\n",
    "2. Propose and train a network\n",
    "3. Print the history of the training\n",
    "4. Evaluate with a test set"
   ]
  },
  {
   "cell_type": "code",
   "execution_count": 12,
   "metadata": {
    "ExecuteTime": {
     "end_time": "2019-02-19T19:46:14.282822Z",
     "start_time": "2019-02-19T19:46:14.151664Z"
    },
    "colab": {
     "base_uri": "https://localhost:8080/",
     "height": 272
    },
    "colab_type": "code",
    "id": "rynKgbUIkyk5",
    "outputId": "da667f5d-5e2a-4a1b-a3fb-fb5940b02f20"
   },
   "outputs": [
    {
     "name": "stdout",
     "output_type": "stream",
     "text": [
      "_________________________________________________________________\n",
      "Layer (type)                 Output Shape              Param #   \n",
      "=================================================================\n",
      "dense_7 (Dense)              (None, 128)               384       \n",
      "_________________________________________________________________\n",
      "dropout_3 (Dropout)          (None, 128)               0         \n",
      "_________________________________________________________________\n",
      "dense_8 (Dense)              (None, 32)                4128      \n",
      "_________________________________________________________________\n",
      "dense_9 (Dense)              (None, 5)                 165       \n",
      "=================================================================\n",
      "Total params: 4,677\n",
      "Trainable params: 4,677\n",
      "Non-trainable params: 0\n",
      "_________________________________________________________________\n"
     ]
    }
   ],
   "source": [
    "student_model = models.Sequential()\n",
    "student_dropout = 0.3\n",
    "\n",
    "student_model.add(layers.Dense(128, activation= 'sigmoid', input_shape=(2,)))\n",
    "\n",
    "student_model.add(layers.Dropout(student_dropout))\n",
    "\n",
    "student_model.add(layers.Dense(32, activation= 'sigmoid'))\n",
    "student_model.add(layers.Dense(5,  activation= 'sigmoid'))\n",
    "\n",
    "student_model.compile(\n",
    "    optimizer= \"rmsprop\", \n",
    "    loss= \"binary_crossentropy\", \n",
    "    metrics=[\"accuracy\"]\n",
    ")\n",
    "\n",
    "student_model.summary()"
   ]
  },
  {
   "cell_type": "code",
   "execution_count": 13,
   "metadata": {
    "ExecuteTime": {
     "end_time": "2019-02-19T19:46:16.717596Z",
     "start_time": "2019-02-19T19:46:15.433533Z"
    },
    "colab": {
     "base_uri": "https://localhost:8080/",
     "height": 578
    },
    "colab_type": "code",
    "id": "FDEvZFOylUWa",
    "outputId": "47d27427-9128-4bc4-e7ed-6b43dbf90cd2"
   },
   "outputs": [
    {
     "name": "stdout",
     "output_type": "stream",
     "text": [
      "Train on 300 samples, validate on 50 samples\n",
      "Epoch 1/16\n",
      " - 0s - loss: 0.5965 - acc: 0.7493 - val_loss: 0.5405 - val_acc: 0.8000\n",
      "Epoch 2/16\n",
      " - 0s - loss: 0.5228 - acc: 0.8000 - val_loss: 0.5107 - val_acc: 0.8000\n",
      "Epoch 3/16\n",
      " - 0s - loss: 0.4937 - acc: 0.8000 - val_loss: 0.4963 - val_acc: 0.8000\n",
      "Epoch 4/16\n",
      " - 0s - loss: 0.4767 - acc: 0.8000 - val_loss: 0.4880 - val_acc: 0.8000\n",
      "Epoch 5/16\n",
      " - 0s - loss: 0.4661 - acc: 0.8000 - val_loss: 0.4825 - val_acc: 0.8000\n",
      "Epoch 6/16\n",
      " - 0s - loss: 0.4593 - acc: 0.8000 - val_loss: 0.4784 - val_acc: 0.8000\n",
      "Epoch 7/16\n",
      " - 0s - loss: 0.4539 - acc: 0.8000 - val_loss: 0.4748 - val_acc: 0.8000\n",
      "Epoch 8/16\n",
      " - 0s - loss: 0.4488 - acc: 0.8000 - val_loss: 0.4725 - val_acc: 0.8000\n",
      "Epoch 9/16\n",
      " - 0s - loss: 0.4476 - acc: 0.8000 - val_loss: 0.4709 - val_acc: 0.8000\n",
      "Epoch 10/16\n",
      " - 0s - loss: 0.4444 - acc: 0.8000 - val_loss: 0.4700 - val_acc: 0.8000\n",
      "Epoch 11/16\n",
      " - 0s - loss: 0.4437 - acc: 0.8000 - val_loss: 0.4684 - val_acc: 0.8000\n",
      "Epoch 12/16\n",
      " - 0s - loss: 0.4426 - acc: 0.8000 - val_loss: 0.4672 - val_acc: 0.8000\n",
      "Epoch 13/16\n",
      " - 0s - loss: 0.4406 - acc: 0.8000 - val_loss: 0.4655 - val_acc: 0.8000\n",
      "Epoch 14/16\n",
      " - 0s - loss: 0.4391 - acc: 0.8000 - val_loss: 0.4660 - val_acc: 0.8000\n",
      "Epoch 15/16\n",
      " - 0s - loss: 0.4384 - acc: 0.8000 - val_loss: 0.4661 - val_acc: 0.8000\n",
      "Epoch 16/16\n",
      " - 0s - loss: 0.4372 - acc: 0.8000 - val_loss: 0.4658 - val_acc: 0.8000\n"
     ]
    }
   ],
   "source": [
    "student_model_history = student_model.fit(\n",
    "  student_train_data,\n",
    "  student_train_labels,\n",
    "  epochs= 16,\n",
    "  batch_size= 64,\n",
    "  validation_data= (student_val_data, student_val_labels),\n",
    "  verbose= 2\n",
    ")"
   ]
  },
  {
   "cell_type": "code",
   "execution_count": 14,
   "metadata": {
    "ExecuteTime": {
     "end_time": "2019-02-19T19:47:21.612555Z",
     "start_time": "2019-02-19T19:47:21.601223Z"
    },
    "colab": {
     "base_uri": "https://localhost:8080/",
     "height": 51
    },
    "colab_type": "code",
    "id": "W1fjYHV6mCxb",
    "outputId": "04b1ee94-a5f5-489b-f830-e2a956193889"
   },
   "outputs": [
    {
     "name": "stdout",
     "output_type": "stream",
     "text": [
      "50/50 [==============================] - 0s 122us/step\n",
      "Student score: 80.00000500679016\n"
     ]
    }
   ],
   "source": [
    "student_result = student_model.evaluate(\n",
    "  student_test_data,\n",
    "  student_test_labels\n",
    ")\n",
    "\n",
    "print('Student score: {}'.format(student_result[1] * 100))"
   ]
  },
  {
   "cell_type": "code",
   "execution_count": 15,
   "metadata": {
    "ExecuteTime": {
     "end_time": "2019-02-19T19:47:23.190163Z",
     "start_time": "2019-02-19T19:47:22.932992Z"
    },
    "colab": {
     "base_uri": "https://localhost:8080/",
     "height": 376
    },
    "colab_type": "code",
    "id": "5tvXRzBPmZck",
    "outputId": "22ec788e-09b1-4723-a4d8-44aad2a6760d"
   },
   "outputs": [
    {
     "data": {
      "image/png": "[encoded data removed]",
      "text/plain": [
       "<Figure size 432x288 with 1 Axes>"
      ]
     },
     "metadata": {
      "needs_background": "light"
     },
     "output_type": "display_data"
    }
   ],
   "source": [
    "student_history = student_model_history.history\n",
    "\n",
    "student_val_loss = student_history['val_loss']\n",
    "student_loss     = student_history['loss']\n",
    "student_epochs   = range(1, len(student_loss) + 1)\n",
    "\n",
    "plt.plot(student_epochs, student_loss, 'go', label= \"Training Loss\")\n",
    "plt.plot(student_epochs, student_val_loss, 'r', label= \"Validation Loss\")\n",
    "plt.title(\"Student Data - Loss\")\n",
    "plt.ylabel(\"Loss\")\n",
    "plt.xlabel(\"Epochs\")\n",
    "plt.legend()\n",
    "plt.show()"
   ]
  },
  {
   "cell_type": "code",
   "execution_count": 16,
   "metadata": {
    "ExecuteTime": {
     "end_time": "2019-02-19T19:47:25.014719Z",
     "start_time": "2019-02-19T19:47:24.834646Z"
    },
    "colab": {
     "base_uri": "https://localhost:8080/",
     "height": 376
    },
    "colab_type": "code",
    "id": "ekeB4fTbnR5G",
    "outputId": "197b0146-f3be-4b89-e1a1-9a67685da079"
   },
   "outputs": [
    {
     "data": {
      "image/png": "[encoded data removed]",
      "text/plain": [
       "<Figure size 432x288 with 1 Axes>"
      ]
     },
     "metadata": {
      "needs_background": "light"
     },
     "output_type": "display_data"
    }
   ],
   "source": [
    "student_val_acc = student_history['val_acc']\n",
    "student_acc     = student_history['acc']\n",
    "\n",
    "plt.plot(student_epochs, student_acc, 'go', label= \"Training Acc\")\n",
    "plt.plot(student_epochs, student_val_acc, 'r', label= \"Validation Acc\")\n",
    "plt.title(\"Student Data - Accuracy\")\n",
    "plt.ylabel(\"Accuracy\")\n",
    "plt.xlabel(\"Epochs\")\n",
    "plt.legend()\n",
    "plt.show()"
   ]
  },
  {
   "cell_type": "markdown",
   "metadata": {
    "colab": {},
    "colab_type": "code",
    "id": "YoviCCiKqH0O"
   },
   "source": [
    "# Student conclusion\n",
    "> This model was the hardest given the small dataset provided, we had 400 rows for training, validation & testing.<br>\n",
    "> I believe that my preprocessing work flow could be better due that I do not use any statistical function to better the data. "
   ]
  },
  {
   "cell_type": "code",
   "execution_count": null,
   "metadata": {},
   "outputs": [],
   "source": []
  }
 ],
 "metadata": {
  "colab": {
   "name": "Keras_assignment.ipynb",
   "provenance": [],
   "version": "0.3.2"
  },
  "kernelspec": {
   "display_name": "Python 3",
   "language": "python",
   "name": "python3"
  },
  "language_info": {
   "codemirror_mode": {
    "name": "ipython",
    "version": 3
   },
   "file_extension": ".py",
   "mimetype": "text/x-python",
   "name": "python",
   "nbconvert_exporter": "python",
   "pygments_lexer": "ipython3",
   "version": "3.5.6"
  },
  "varInspector": {
   "cols": {
    "lenName": 16,
    "lenType": 16,
    "lenVar": 40
   },
   "kernels_config": {
    "python": {
     "delete_cmd_postfix": "",
     "delete_cmd_prefix": "del ",
     "library": "var_list.py",
     "varRefreshCmd": "print(var_dic_list())"
    },
    "r": {
     "delete_cmd_postfix": ") ",
     "delete_cmd_prefix": "rm(",
     "library": "var_list.r",
     "varRefreshCmd": "cat(var_dic_list()) "
    }
   },
   "types_to_exclude": [
    "module",
    "function",
    "builtin_function_or_method",
    "instance",
    "_Feature"
   ],
   "window_display": false
  }
 },
 "nbformat": 4,
 "nbformat_minor": 1
}
