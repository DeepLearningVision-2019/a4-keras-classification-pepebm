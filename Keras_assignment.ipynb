{
 "cells": [
  {
   "cell_type": "markdown",
   "metadata": {
    "colab_type": "text",
    "id": "XWSsPfsll5kx"
   },
   "source": [
    "# Classify different data sets"
   ]
  },
  {
   "cell_type": "markdown",
   "metadata": {
    "colab_type": "text",
    "id": "T5XBu34Wl5kz"
   },
   "source": [
    "### Basic includes"
   ]
  },
  {
   "cell_type": "code",
   "execution_count": 1,
   "metadata": {
    "colab": {
     "base_uri": "https://localhost:8080/",
     "height": 34
    },
    "colab_type": "code",
    "id": "tEDY-J97l5k1",
    "outputId": "bda72e83-4b47-418e-924c-b3fd6253bd50"
   },
   "outputs": [
    {
     "name": "stderr",
     "output_type": "stream",
     "text": [
      "Using TensorFlow backend.\n"
     ]
    }
   ],
   "source": [
    "# Using pandas to load the csv file\n",
    "import pandas as pd\n",
    "\n",
    "import numpy as np\n",
    "import matplotlib.pyplot as plt\n",
    "\n",
    "from keras import models \n",
    "from keras import layers \n",
    "from keras import callbacks\n",
    "from keras.utils import to_categorical\n",
    "\n",
    "# reuters and fashin mnist data set from keras\n",
    "from keras.datasets import reuters\n",
    "from keras.datasets import fashion_mnist\n",
    "\n",
    "# needed to preprocess text\n",
    "from keras.preprocessing.text import Tokenizer"
   ]
  },
  {
   "cell_type": "markdown",
   "metadata": {
    "colab_type": "text",
    "id": "BfhhzSmLl5k9"
   },
   "source": [
    "### Classify the Fashion Mnist\n",
    "\n",
    "---"
   ]
  },
  {
   "cell_type": "code",
   "execution_count": 79,
   "metadata": {
    "colab": {
     "base_uri": "https://localhost:8080/",
     "height": 396
    },
    "colab_type": "code",
    "id": "riikignol5k-",
    "outputId": "437ceee5-f324-41cd-bb3c-6bac7634fc13"
   },
   "outputs": [
    {
     "name": "stdout",
     "output_type": "stream",
     "text": [
      "(60000, 28, 28)\n"
     ]
    },
    {
     "data": {
      "text/plain": [
       "<matplotlib.image.AxesImage at 0x7f5a98b8a438>"
      ]
     },
     "execution_count": 79,
     "metadata": {
      "tags": []
     },
     "output_type": "execute_result"
    },
    {
     "data": {
      "image/png": "[encoded data removed]",
      "text/plain": [
       "<Figure size 576x396 with 1 Axes>"
      ]
     },
     "metadata": {
      "tags": []
     },
     "output_type": "display_data"
    }
   ],
   "source": [
    "(fashion_train_data, fashion_train_labels), (fashion_test_data, fashion_test_labels) = fashion_mnist.load_data()\n",
    "fashion_class_labels = [\n",
    "    'T-shirt/top', 'Trouser', 'Pullover', 'Dress', 'Coat', 'Sandal', 'Shirt', 'Sneaker', 'Bag', 'Ankle boot'\n",
    "]\n",
    "print(fashion_train_data.shape)\n",
    "\n",
    "test_index = 10\n",
    "\n",
    "plt.title(\"Label: \" + fashion_class_labels[fashion_train_labels[test_index]])\n",
    "plt.imshow(fashion_train_data[test_index], cmap=\"gray\")"
   ]
  },
  {
   "cell_type": "markdown",
   "metadata": {
    "colab_type": "text",
    "id": "EzIrzKLxl5lE"
   },
   "source": [
    "#### TO DO: Preprocess the data\n",
    "\n",
    "1. Normalize the input data set\n",
    "2. Perform one hot encoding\n",
    "3. Create a train, test, and validation set"
   ]
  },
  {
   "cell_type": "code",
   "execution_count": 0,
   "metadata": {
    "colab": {},
    "colab_type": "code",
    "id": "miATWUvMl5lF"
   },
   "outputs": [],
   "source": [
    "# Normalize the input data set\n",
    "# flatten images\n",
    "fashion_train_data = fashion_train_data.reshape((60000, 784))\n",
    "fashion_train_data = fashion_train_data.astype('float32') / 255\n",
    "\n",
    "fashion_test_data = fashion_test_data.reshape((10000, 784)) \n",
    "fashion_test_data = fashion_test_data.astype('float32') / 255\n",
    "\n",
    "# one hot encoding\n",
    "fashion_train_labels = to_categorical(fashion_train_labels) \n",
    "fashion_test_labels = to_categorical(fashion_test_labels)\n",
    "\n",
    "validation_set_labels = fashion_train_labels[50000:]\n",
    "validation_set = fashion_train_data[50000:]\n",
    "\n",
    "training_set_labels = fashion_train_labels[:50000]\n",
    "training_set = fashion_train_data[:50000]"
   ]
  },
  {
   "cell_type": "markdown",
   "metadata": {
    "colab_type": "text",
    "id": "3zxY-WeUl5lK"
   },
   "source": [
    "#### TO DO: Define and train a network, then plot the accuracy of the training, validation, and testing\n",
    "\n",
    "1. Use a validation set\n",
    "2. Propose and train a network\n",
    "3. Print the history of the training\n",
    "4. Evaluate with a test set"
   ]
  },
  {
   "cell_type": "code",
   "execution_count": 83,
   "metadata": {
    "colab": {
     "base_uri": "https://localhost:8080/",
     "height": 340
    },
    "colab_type": "code",
    "id": "vlup3wBx0WyE",
    "outputId": "555fee55-1545-4122-b9cc-fff08d79a41f"
   },
   "outputs": [
    {
     "name": "stdout",
     "output_type": "stream",
     "text": [
      "_________________________________________________________________\n",
      "Layer (type)                 Output Shape              Param #   \n",
      "=================================================================\n",
      "dense_85 (Dense)             (None, 1024)              803840    \n",
      "_________________________________________________________________\n",
      "dropout_47 (Dropout)         (None, 1024)              0         \n",
      "_________________________________________________________________\n",
      "dense_86 (Dense)             (None, 256)               262400    \n",
      "_________________________________________________________________\n",
      "dense_87 (Dense)             (None, 128)               32896     \n",
      "_________________________________________________________________\n",
      "dropout_48 (Dropout)         (None, 128)               0         \n",
      "_________________________________________________________________\n",
      "dense_88 (Dense)             (None, 10)                1290      \n",
      "=================================================================\n",
      "Total params: 1,100,426\n",
      "Trainable params: 1,100,426\n",
      "Non-trainable params: 0\n",
      "_________________________________________________________________\n"
     ]
    }
   ],
   "source": [
    "# Crate NN\n",
    "\n",
    "nn_fashion_model = models.Sequential()\n",
    "fashion_dropout = 0.3\n",
    "\n",
    "nn_fashion_model.add(layers.Dense(1024, activation= \"relu\", input_shape= (784,)))\n",
    "\n",
    "nn_fashion_model.add(layers.Dropout(fashion_dropout))\n",
    "\n",
    "nn_fashion_model.add(layers.Dense(256, activation=\"relu\"))\n",
    "nn_fashion_model.add(layers.Dense(128, activation=\"relu\"))\n",
    "\n",
    "nn_fashion_model.add(layers.Dropout(fashion_dropout))\n",
    "\n",
    "# Last layer, same size has the number of categories\n",
    "nn_fashion_model.add(layers.Dense(10, activation=\"softmax\"))\n",
    "\n",
    "\n",
    "\n",
    "nn_fashion_early_stops = [\n",
    "    callbacks.EarlyStopping(monitor= 'val_loss', patience= 4)\n",
    "]\n",
    "\n",
    "nn_fashion_model.compile(\n",
    "    loss= \"categorical_crossentropy\", optimizer= \"adam\", metrics= [\"accuracy\"]\n",
    ")\n",
    "\n",
    "nn_fashion_model.summary()"
   ]
  },
  {
   "cell_type": "code",
   "execution_count": 86,
   "metadata": {
    "colab": {
     "base_uri": "https://localhost:8080/",
     "height": 618
    },
    "colab_type": "code",
    "id": "MS-AgykwMKK1",
    "outputId": "fc49367f-abe3-4e2b-b2cc-5098740d32cb"
   },
   "outputs": [
    {
     "name": "stdout",
     "output_type": "stream",
     "text": [
      "Train on 60000 samples, validate on 10000 samples\n",
      "Epoch 1/16\n",
      " - 8s - loss: 0.2937 - acc: 0.8914 - val_loss: 0.2599 - val_acc: 0.9040\n",
      "Epoch 2/16\n",
      " - 8s - loss: 0.2802 - acc: 0.8981 - val_loss: 0.2385 - val_acc: 0.9092\n",
      "Epoch 3/16\n",
      " - 8s - loss: 0.2706 - acc: 0.8992 - val_loss: 0.2495 - val_acc: 0.9055\n",
      "Epoch 4/16\n",
      " - 8s - loss: 0.2676 - acc: 0.9007 - val_loss: 0.2270 - val_acc: 0.9151\n",
      "Epoch 5/16\n",
      " - 8s - loss: 0.2605 - acc: 0.9033 - val_loss: 0.2344 - val_acc: 0.9102\n",
      "Epoch 6/16\n",
      " - 8s - loss: 0.2562 - acc: 0.9049 - val_loss: 0.2134 - val_acc: 0.9199\n",
      "Epoch 7/16\n",
      " - 8s - loss: 0.2461 - acc: 0.9079 - val_loss: 0.2092 - val_acc: 0.9209\n",
      "Epoch 8/16\n",
      " - 8s - loss: 0.2432 - acc: 0.9098 - val_loss: 0.2098 - val_acc: 0.9181\n",
      "Epoch 9/16\n",
      " - 8s - loss: 0.2395 - acc: 0.9116 - val_loss: 0.2031 - val_acc: 0.9207\n",
      "Epoch 10/16\n",
      " - 8s - loss: 0.2349 - acc: 0.9114 - val_loss: 0.2051 - val_acc: 0.9192\n",
      "Epoch 11/16\n",
      " - 8s - loss: 0.2298 - acc: 0.9135 - val_loss: 0.2134 - val_acc: 0.9189\n",
      "Epoch 12/16\n",
      " - 8s - loss: 0.2287 - acc: 0.9136 - val_loss: 0.2020 - val_acc: 0.9221\n",
      "Epoch 13/16\n",
      " - 8s - loss: 0.2218 - acc: 0.9173 - val_loss: 0.1900 - val_acc: 0.9259\n",
      "Epoch 14/16\n",
      " - 8s - loss: 0.2189 - acc: 0.9175 - val_loss: 0.1824 - val_acc: 0.9300\n",
      "Epoch 15/16\n",
      " - 8s - loss: 0.2162 - acc: 0.9190 - val_loss: 0.1779 - val_acc: 0.9306\n",
      "Epoch 16/16\n",
      " - 8s - loss: 0.2111 - acc: 0.9199 - val_loss: 0.1817 - val_acc: 0.9303\n"
     ]
    }
   ],
   "source": [
    "# Train the NN model\n",
    "fashion_epochs = 16\n",
    "nn_fashion_history = nn_fashion_model.fit(\n",
    "    fashion_train_data,\n",
    "    fashion_train_labels,\n",
    "    batch_size= 1024,\n",
    "    epochs= fashion_epochs,\n",
    "    verbose= 2,\n",
    "    callbacks= nn_fashion_early_stops,\n",
    "    validation_data= (validation_set, validation_set_labels)\n",
    ")"
   ]
  },
  {
   "cell_type": "code",
   "execution_count": 93,
   "metadata": {
    "colab": {
     "base_uri": "https://localhost:8080/",
     "height": 410
    },
    "colab_type": "code",
    "id": "6JdTQrYSl5lL",
    "outputId": "a1684bad-2f55-4685-f5d6-0c9da5380906"
   },
   "outputs": [
    {
     "name": "stdout",
     "output_type": "stream",
     "text": [
      "10000/10000 [==============================] - 1s 121us/step\n",
      "Fashion score: 89.36%\n"
     ]
    },
    {
     "data": {
      "image/png": "[encoded data removed]",
      "text/plain": [
       "<Figure size 576x396 with 1 Axes>"
      ]
     },
     "metadata": {
      "tags": []
     },
     "output_type": "display_data"
    }
   ],
   "source": [
    "fashion_result = nn_fashion_model.evaluate(fashion_test_data, fashion_test_labels)\n",
    "print('Fashion score: {}%'.format(fashion_result[1]*100))\n",
    "\n",
    "\n",
    "fashion_history  = nn_fashion_history.history\n",
    "fashion_acc      = fashion_history['acc']\n",
    "fashion_val_acc  = fashion_history['val_acc']\n",
    "fashion_loss     = fashion_history['loss']\n",
    "fashion_val_loss = fashion_history['val_loss']\n",
    "fashion_epochs   = range(1, len(fashion_acc) + 1)\n",
    "\n",
    "plt.plot(fashion_epochs, fashion_loss, 'go', label='Training Loss')\n",
    "plt.plot(fashion_epochs, fashion_val_loss, 'r', label='Validation Loss')\n",
    "\n",
    "plt.title('Fashion Data set')\n",
    "plt.xlabel('Epochs')\n",
    "plt.ylabel('Loss')\n",
    "plt.legend()\n",
    "\n",
    "plt.show()"
   ]
  },
  {
   "cell_type": "markdown",
   "metadata": {
    "colab_type": "text",
    "id": "wy2ylr_nl5lR"
   },
   "source": [
    "## Classifying newswires\n",
    "\n",
    "---\n",
    "\n",
    "Build a network to classify Reuters newswires into 46 different mutually-exclusive topics."
   ]
  },
  {
   "cell_type": "markdown",
   "metadata": {
    "colab_type": "text",
    "id": "keWnxT4Cl5lS"
   },
   "source": [
    "### Load and review the data"
   ]
  },
  {
   "cell_type": "code",
   "execution_count": 3,
   "metadata": {
    "colab": {
     "base_uri": "https://localhost:8080/",
     "height": 176
    },
    "colab_type": "code",
    "id": "s-PzMf8sl5lT",
    "outputId": "a9171b2b-8a87-4437-f045-9ec908486682"
   },
   "outputs": [
    {
     "name": "stdout",
     "output_type": "stream",
     "text": [
      "Downloading data from https://s3.amazonaws.com/text-datasets/reuters.npz\n",
      "2113536/2110848 [==============================] - 0s 0us/step\n",
      "(8982,)\n",
      "(8982,)\n",
      "[1, 2, 2, 8, 43, 10, 447, 5, 25, 207, 270, 5, 3095, 111, 16, 369, 186, 90, 67, 7, 89, 5, 19, 102, 6, 19, 124, 15, 90, 67, 84, 22, 482, 26, 7, 48, 4, 49, 8, 864, 39, 209, 154, 6, 151, 6, 83, 11, 15, 22, 155, 11, 15, 7, 48, 9, 4579, 1005, 504, 6, 258, 6, 272, 11, 15, 22, 134, 44, 11, 15, 16, 8, 197, 1245, 90, 67, 52, 29, 209, 30, 32, 132, 6, 109, 15, 17, 12]\n",
      "3\n",
      "{0, 1, 2, 3, 4, 5, 6, 7, 8, 9, 10, 11, 12, 13, 14, 15, 16, 17, 18, 19, 20, 21, 22, 23, 24, 25, 26, 27, 28, 29, 30, 31, 32, 33, 34, 35, 36, 37, 38, 39, 40, 41, 42, 43, 44, 45}\n"
     ]
    }
   ],
   "source": [
    "reuters_max_words = 10000\n",
    "(reuters_train_data, reuters_train_labels), (reuters_test_data, reuters_test_labels) = reuters.load_data(num_words=reuters_max_words)\n",
    "\n",
    "print(reuters_train_data.shape)\n",
    "print(reuters_train_labels.shape)\n",
    "print(reuters_train_data[0])\n",
    "print(reuters_train_labels[0])\n",
    "\n",
    "print(set(reuters_train_labels))"
   ]
  },
  {
   "cell_type": "markdown",
   "metadata": {
    "colab_type": "text",
    "id": "SYsETBNml5lV"
   },
   "source": [
    "Load the word index to decode the train data."
   ]
  },
  {
   "cell_type": "code",
   "execution_count": 4,
   "metadata": {
    "colab": {
     "base_uri": "https://localhost:8080/",
     "height": 108
    },
    "colab_type": "code",
    "id": "sHzHqHHLl5lW",
    "outputId": "e8ca0848-d636-49dd-83e0-659f89af530a"
   },
   "outputs": [
    {
     "name": "stdout",
     "output_type": "stream",
     "text": [
      "Downloading data from https://s3.amazonaws.com/text-datasets/reuters_word_index.json\n",
      "557056/550378 [==============================] - 0s 0us/step\n",
      "<START> <UNKNOWN> <UNKNOWN> said as a result of its december acquisition of space co it expects earnings per share in 1987 of 1 15 to 1 30 dlrs per share up from 70 cts in 1986 the company said pretax net should rise to nine to 10 mln dlrs from six mln dlrs in 1986 and rental operation revenues to 19 to 22 mln dlrs from 12 5 mln dlrs it said cash flow per share this year should be 2 50 to three dlrs reuter 3\n"
     ]
    }
   ],
   "source": [
    "word_index = reuters.get_word_index()\n",
    "\n",
    "reverse_index = dict([(value+3, key) for (key, value) in word_index.items()])\n",
    "\n",
    "reverse_index[0] = \"<PAD>\"\n",
    "reverse_index[1] = \"<START>\"\n",
    "reverse_index[2] = \"<UNKNOWN>\"  # unknown\n",
    "reverse_index[3] = \"<UNUSED>\"\n",
    "\n",
    "decoded_review = ' '.join([reverse_index.get(i,'?') for i in reuters_train_data[0]])\n",
    "\n",
    "print(decoded_review)"
   ]
  },
  {
   "cell_type": "markdown",
   "metadata": {
    "colab_type": "text",
    "id": "abAQrZzEl5lY"
   },
   "source": [
    "#### TO DO: Preprocess the data\n",
    "\n",
    "1. Normalize the input data set\n",
    "2. Perform one hot encoding\n",
    "3. Create a train, test, and validation set"
   ]
  },
  {
   "cell_type": "code",
   "execution_count": 5,
   "metadata": {
    "colab": {
     "base_uri": "https://localhost:8080/",
     "height": 170
    },
    "colab_type": "code",
    "id": "ZKf7i1Gsyc5t",
    "outputId": "800ca4c4-e46d-438f-fbbc-a1ad6e579f57"
   },
   "outputs": [
    {
     "name": "stdout",
     "output_type": "stream",
     "text": [
      "train:\n",
      "(7982, 10000)\n",
      "(7982, 46)\n",
      "val:\n",
      "(1000, 10000)\n",
      "(1000, 46)\n",
      "test:\n",
      "(2246, 10000)\n",
      "(2246, 46)\n"
     ]
    }
   ],
   "source": [
    "tokenizer = Tokenizer(num_words=reuters_max_words)\n",
    "\n",
    "reuters_train_data_token = tokenizer.sequences_to_matrix(reuters_train_data, mode=\"binary\")\n",
    "reuters_test_data_token = tokenizer.sequences_to_matrix(reuters_test_data, mode=\"binary\")\n",
    "\n",
    "reuters_one_hot_train_labels = to_categorical(reuters_train_labels)\n",
    "reuters_one_hot_test_labels  = to_categorical(reuters_test_labels)\n",
    "\n",
    "reuters_val_data, reuters_val_labels = reuters_train_data_token[:1000], reuters_one_hot_train_labels[:1000]\n",
    "\n",
    "reuters_train_data, reuters_train_labels = reuters_train_data_token[1000:], reuters_one_hot_train_labels[1000:]\n",
    "\n",
    "print('train:')\n",
    "print(reuters_train_data.shape)\n",
    "print(reuters_train_labels.shape)\n",
    "print('val:')\n",
    "print(reuters_val_data.shape)\n",
    "print(reuters_val_labels.shape)\n",
    "print('test:')\n",
    "print(reuters_test_data_token.shape)\n",
    "print(reuters_one_hot_test_labels.shape)\n"
   ]
  },
  {
   "cell_type": "markdown",
   "metadata": {
    "colab_type": "text",
    "id": "b4_WzBhll5lZ"
   },
   "source": [
    "#### TO DO: Define and train a network, then plot the accuracy of the training, validation, and testing\n",
    "\n",
    "1. Use a validation set\n",
    "2. Propose and train a network\n",
    "3. Print the history of the training\n",
    "4. Evaluate with a test set"
   ]
  },
  {
   "cell_type": "code",
   "execution_count": 50,
   "metadata": {
    "colab": {
     "base_uri": "https://localhost:8080/",
     "height": 340
    },
    "colab_type": "code",
    "id": "eB-JJ9D8OMnw",
    "outputId": "1730e27d-f712-43f7-c031-2b6acb57864a"
   },
   "outputs": [
    {
     "name": "stdout",
     "output_type": "stream",
     "text": [
      "_________________________________________________________________\n",
      "Layer (type)                 Output Shape              Param #   \n",
      "=================================================================\n",
      "dense_71 (Dense)             (None, 1024)              10241024  \n",
      "_________________________________________________________________\n",
      "dropout_35 (Dropout)         (None, 1024)              0         \n",
      "_________________________________________________________________\n",
      "dense_72 (Dense)             (None, 256)               262400    \n",
      "_________________________________________________________________\n",
      "dense_73 (Dense)             (None, 128)               32896     \n",
      "_________________________________________________________________\n",
      "dropout_36 (Dropout)         (None, 128)               0         \n",
      "_________________________________________________________________\n",
      "dense_74 (Dense)             (None, 46)                5934      \n",
      "=================================================================\n",
      "Total params: 10,542,254\n",
      "Trainable params: 10,542,254\n",
      "Non-trainable params: 0\n",
      "_________________________________________________________________\n"
     ]
    }
   ],
   "source": [
    "reuters_model   = models.Sequential()\n",
    "reuters_dropout = 0.3\n",
    "\n",
    "reuters_model.add(layers.Dense(1024, activation=\"tanh\", input_dim=10000))\n",
    "\n",
    "reuters_model.add(layers.Dropout(reuters_dropout))\n",
    "\n",
    "reuters_model.add(layers.Dense(256, activation=\"relu\"))\n",
    "reuters_model.add(layers.Dense(128, activation=\"relu\"))\n",
    "\n",
    "reuters_model.add(layers.Dropout(reuters_dropout))\n",
    "\n",
    "reuters_model.add(layers.Dense(46, activation=\"softmax\"))\n",
    "\n",
    "reuters_model.compile(\n",
    "    loss= \"categorical_crossentropy\", optimizer= \"adamax\", metrics= [\"accuracy\"]\n",
    ")\n",
    "\n",
    "reuters_model.summary()\n",
    "\n",
    "\n",
    "reuters_early_stops = [\n",
    "    callbacks.EarlyStopping(monitor= 'val_loss', patience= 4),\n",
    "    callbacks.EarlyStopping(monitor= 'val_acc',  patience= 5)\n",
    "]"
   ]
  },
  {
   "cell_type": "code",
   "execution_count": 51,
   "metadata": {
    "colab": {
     "base_uri": "https://localhost:8080/",
     "height": 578
    },
    "colab_type": "code",
    "id": "efD8HUvvPglQ",
    "outputId": "767eb8c8-116b-41b6-9082-9a9029367221"
   },
   "outputs": [
    {
     "name": "stdout",
     "output_type": "stream",
     "text": [
      "Train on 7982 samples, validate on 1000 samples\n",
      "Epoch 1/16\n",
      " - 9s - loss: 2.6947 - acc: 0.4553 - val_loss: 1.5795 - val_acc: 0.6510\n",
      "Epoch 2/16\n",
      " - 7s - loss: 1.4296 - acc: 0.6889 - val_loss: 1.2355 - val_acc: 0.7210\n",
      "Epoch 3/16\n",
      " - 7s - loss: 1.0428 - acc: 0.7597 - val_loss: 1.0334 - val_acc: 0.7770\n",
      "Epoch 4/16\n",
      " - 7s - loss: 0.7989 - acc: 0.8201 - val_loss: 0.9555 - val_acc: 0.7880\n",
      "Epoch 5/16\n",
      " - 7s - loss: 0.6092 - acc: 0.8632 - val_loss: 0.8835 - val_acc: 0.8110\n",
      "Epoch 6/16\n",
      " - 7s - loss: 0.4545 - acc: 0.8971 - val_loss: 0.8705 - val_acc: 0.8160\n",
      "Epoch 7/16\n",
      " - 7s - loss: 0.3489 - acc: 0.9201 - val_loss: 0.8510 - val_acc: 0.8210\n",
      "Epoch 8/16\n",
      " - 7s - loss: 0.2813 - acc: 0.9342 - val_loss: 0.8841 - val_acc: 0.8200\n",
      "Epoch 9/16\n",
      " - 7s - loss: 0.2255 - acc: 0.9432 - val_loss: 0.9112 - val_acc: 0.8190\n",
      "Epoch 10/16\n",
      " - 7s - loss: 0.1894 - acc: 0.9494 - val_loss: 0.9397 - val_acc: 0.8220\n",
      "Epoch 11/16\n",
      " - 7s - loss: 0.1681 - acc: 0.9543 - val_loss: 0.9711 - val_acc: 0.8250\n",
      "Epoch 12/16\n",
      " - 7s - loss: 0.1501 - acc: 0.9575 - val_loss: 0.9874 - val_acc: 0.8190\n",
      "Epoch 13/16\n",
      " - 7s - loss: 0.1387 - acc: 0.9584 - val_loss: 1.0119 - val_acc: 0.8210\n",
      "Epoch 14/16\n",
      " - 7s - loss: 0.1289 - acc: 0.9627 - val_loss: 1.0018 - val_acc: 0.8140\n",
      "Epoch 15/16\n",
      " - 7s - loss: 0.1193 - acc: 0.9622 - val_loss: 1.0341 - val_acc: 0.8170\n",
      "Epoch 16/16\n",
      " - 7s - loss: 0.1204 - acc: 0.9625 - val_loss: 1.0436 - val_acc: 0.8160\n"
     ]
    }
   ],
   "source": [
    "reuters_model_history = reuters_model.fit(\n",
    "    reuters_train_data,\n",
    "    reuters_train_labels,\n",
    "    batch_size= 1024,\n",
    "    epochs= 16,\n",
    "    verbose= 2,\n",
    "    #callbacks= reuters_early_stops,\n",
    "    validation_data= (reuters_val_data, reuters_val_labels)\n",
    ")"
   ]
  },
  {
   "cell_type": "code",
   "execution_count": 52,
   "metadata": {
    "colab": {
     "base_uri": "https://localhost:8080/",
     "height": 410
    },
    "colab_type": "code",
    "id": "cwQj4I-IT0ZQ",
    "outputId": "272ad0e3-f1f1-475f-d337-cd37dd716f86"
   },
   "outputs": [
    {
     "name": "stdout",
     "output_type": "stream",
     "text": [
      "2246/2246 [==============================] - 2s 838us/step\n",
      "Fashion score: 79.29652715939449%\n"
     ]
    },
    {
     "data": {
      "image/png": "[encoded data removed]",
      "text/plain": [
       "<Figure size 576x396 with 1 Axes>"
      ]
     },
     "metadata": {
      "tags": []
     },
     "output_type": "display_data"
    }
   ],
   "source": [
    "reuters_result = reuters_model.evaluate(\n",
    "    reuters_test_data_token, \n",
    "    reuters_one_hot_test_labels\n",
    ")\n",
    "\n",
    "print('Fashion score: {}%'.format(reuters_result[1]*100))\n",
    "\n",
    "\n",
    "reuters_history  = reuters_model_history.history\n",
    "reuters_acc      = reuters_history['acc']\n",
    "reuters_val_acc  = reuters_history['val_acc']\n",
    "reuters_loss     = reuters_history['loss']\n",
    "reuters_val_loss = reuters_history['val_loss']\n",
    "reuters_epochs   = range(1, len(reuters_acc) + 1)\n",
    "\n",
    "plt.plot(reuters_epochs, reuters_loss, 'go', label='Training Loss')\n",
    "plt.plot(reuters_epochs, reuters_val_loss, 'r', label='Validation Loss')\n",
    "\n",
    "plt.title('Reuters Data set')\n",
    "plt.xlabel('Epochs')\n",
    "plt.ylabel('Loss')\n",
    "plt.legend()\n",
    "\n",
    "plt.show()"
   ]
  },
  {
   "cell_type": "markdown",
   "metadata": {
    "colab_type": "text",
    "id": "ba2pYW-nl5lZ"
   },
   "source": [
    "## Predicting Student Admissions\n",
    "\n",
    "---\n",
    "\n",
    "Predict student admissions based on three pieces of data:\n",
    "\n",
    "- GRE Scores\n",
    "- GPA Scores\n",
    "- Class rank"
   ]
  },
  {
   "cell_type": "markdown",
   "metadata": {
    "colab_type": "text",
    "id": "1dqFu1D2l5lZ"
   },
   "source": [
    "### Load and visualize the data"
   ]
  },
  {
   "cell_type": "code",
   "execution_count": 2,
   "metadata": {
    "colab": {
     "base_uri": "https://localhost:8080/",
     "height": 901
    },
    "colab_type": "code",
    "id": "5JjwVWsvl5la",
    "outputId": "02425675-cf41-42a5-a539-e96709900e3f"
   },
   "outputs": [
    {
     "name": "stdout",
     "output_type": "stream",
     "text": [
      "     admit    gre   gpa  rank\n",
      "0        0  380.0  3.61   3.0\n",
      "1        1  660.0  3.67   3.0\n",
      "2        1  800.0  4.00   1.0\n",
      "3        1  640.0  3.19   4.0\n",
      "4        0  520.0  2.93   4.0\n",
      "5        1  760.0  3.00   2.0\n",
      "6        1  560.0  2.98   1.0\n",
      "7        0  400.0  3.08   2.0\n",
      "8        1  540.0  3.39   3.0\n",
      "9        0  700.0  3.92   2.0\n",
      "10       0  800.0  4.00   4.0\n",
      "11       0  440.0  3.22   1.0\n",
      "12       1  760.0  4.00   1.0\n",
      "13       0  700.0  3.08   2.0\n",
      "14       1  700.0  4.00   1.0\n",
      "15       0  480.0  3.44   3.0\n",
      "16       0  780.0  3.87   4.0\n",
      "17       0  360.0  2.56   3.0\n",
      "18       0  800.0  3.75   2.0\n",
      "19       1  540.0  3.81   1.0\n",
      "20       0  500.0  3.17   3.0\n",
      "21       1  660.0  3.63   2.0\n",
      "22       0  600.0  2.82   4.0\n",
      "23       0  680.0  3.19   4.0\n",
      "24       1  760.0  3.35   2.0\n",
      "25       1  800.0  3.66   1.0\n",
      "26       1  620.0  3.61   1.0\n",
      "27       1  520.0  3.74   4.0\n",
      "28       1  780.0  3.22   2.0\n",
      "29       0  520.0  3.29   1.0\n",
      "..     ...    ...   ...   ...\n",
      "370      1  540.0  3.77   2.0\n",
      "371      1  680.0  3.76   3.0\n",
      "372      1  680.0  2.42   1.0\n",
      "373      1  620.0  3.37   1.0\n",
      "374      0  560.0  3.78   2.0\n",
      "375      0  560.0  3.49   4.0\n",
      "376      0  620.0  3.63   2.0\n",
      "377      1  800.0  4.00   2.0\n",
      "378      0  640.0  3.12   3.0\n",
      "379      0  540.0  2.70   2.0\n",
      "380      0  700.0  3.65   2.0\n",
      "381      1  540.0  3.49   2.0\n",
      "382      0  540.0  3.51   2.0\n",
      "383      0  660.0  4.00   1.0\n",
      "384      1  480.0  2.62   2.0\n",
      "385      0  420.0  3.02   1.0\n",
      "386      1  740.0  3.86   2.0\n",
      "387      0  580.0  3.36   2.0\n",
      "388      0  640.0  3.17   2.0\n",
      "389      0  640.0  3.51   2.0\n",
      "390      1  800.0  3.05   2.0\n",
      "391      1  660.0  3.88   2.0\n",
      "392      1  600.0  3.38   3.0\n",
      "393      1  620.0  3.75   2.0\n",
      "394      1  460.0  3.99   3.0\n",
      "395      0  620.0  4.00   2.0\n",
      "396      0  560.0  3.04   3.0\n",
      "397      0  460.0  2.63   2.0\n",
      "398      0  700.0  3.65   2.0\n",
      "399      0  600.0  3.89   3.0\n",
      "\n",
      "[400 rows x 4 columns]\n",
      "(400, 4)\n"
     ]
    }
   ],
   "source": [
    "student_data = pd.read_csv(\"student_data.csv\")\n",
    "print(student_data)\n",
    "print(student_data.shape)"
   ]
  },
  {
   "cell_type": "markdown",
   "metadata": {
    "colab_type": "text",
    "id": "M--BDojwl5lb"
   },
   "source": [
    "Plot of the GRE and the GPA from the data."
   ]
  },
  {
   "cell_type": "code",
   "execution_count": 3,
   "metadata": {
    "colab": {},
    "colab_type": "code",
    "id": "QviQ24PQl5lc",
    "outputId": "61fa5d1f-8570-4185-f2fb-d686e6496f30"
   },
   "outputs": [
    {
     "data": {
      "image/png": "[encoded data removed]",
      "text/plain": [
       "<Figure size 432x288 with 1 Axes>"
      ]
     },
     "metadata": {
      "needs_background": "light"
     },
     "output_type": "display_data"
    }
   ],
   "source": [
    "X = np.array(student_data[[\"gre\",\"gpa\"]])\n",
    "y = np.array(student_data[\"admit\"])\n",
    "admitted = X[np.argwhere(y==1)]\n",
    "rejected = X[np.argwhere(y==0)]\n",
    "plt.scatter([s[0][0] for s in rejected], [s[0][1] for s in rejected], s = 25, color = 'red', edgecolor = 'k')\n",
    "plt.scatter([s[0][0] for s in admitted], [s[0][1] for s in admitted], s = 25, color = 'cyan', edgecolor = 'k')\n",
    "plt.xlabel('Test (GRE)')\n",
    "plt.ylabel('Grades (GPA)')\n",
    "\n",
    "plt.show()"
   ]
  },
  {
   "cell_type": "markdown",
   "metadata": {
    "colab_type": "text",
    "id": "T49UiWKpl5le"
   },
   "source": [
    "Plot of the data by class rank."
   ]
  },
  {
   "cell_type": "code",
   "execution_count": 5,
   "metadata": {
    "colab": {},
    "colab_type": "code",
    "id": "55uinMMOl5le",
    "outputId": "64393b5f-434c-4884-9a53-b4461f92f7c6"
   },
   "outputs": [
    {
     "data": {
      "image/png": "[encoded data removed]",
      "text/plain": [
       "<Figure size 1440x720 with 4 Axes>"
      ]
     },
     "metadata": {
      "needs_background": "light"
     },
     "output_type": "display_data"
    }
   ],
   "source": [
    "f, plots = plt.subplots(2, 2, figsize=(20,10))\n",
    "plots = [plot for sublist in plots for plot in sublist]\n",
    "\n",
    "for idx, plot in enumerate(plots):\n",
    "    data_rank = student_data[student_data[\"rank\"]==idx+1]\n",
    "    plot.set_title(\"Rank \" + str(idx+1))\n",
    "    X = np.array(data_rank[[\"gre\",\"gpa\"]])\n",
    "    y = np.array(data_rank[\"admit\"])\n",
    "    admitted = X[np.argwhere(y==1)]\n",
    "    rejected = X[np.argwhere(y==0)]\n",
    "    plot.scatter([s[0][0] for s in rejected], [s[0][1] for s in rejected], s = 25, color = 'red', edgecolor = 'k')\n",
    "    plot.scatter([s[0][0] for s in admitted], [s[0][1] for s in admitted], s = 25, color = 'cyan', edgecolor = 'k')\n",
    "    plot.set_xlabel('Test (GRE)')\n",
    "    plot.set_ylabel('Grades (GPA)')\n",
    "    "
   ]
  },
  {
   "cell_type": "markdown",
   "metadata": {
    "colab_type": "text",
    "id": "fBwOVWRJl5lh"
   },
   "source": [
    "#### TO DO: Preprocess the data\n",
    "\n",
    "1. Normalize the input data set\n",
    "2. Perform one hot encoding\n",
    "3. Create a train, test, and validation set"
   ]
  },
  {
   "cell_type": "markdown",
   "metadata": {
    "colab_type": "text",
    "id": "bXNfG06yl5li"
   },
   "source": [
    "#### TO DO: Define and train a network, then plot the accuracy of the training, validation, and testing\n",
    "\n",
    "1. Use a validation set\n",
    "2. Propose and train a network\n",
    "3. Print the history of the training\n",
    "4. Evaluate with a test set"
   ]
  }
 ],
 "metadata": {
  "colab": {
   "name": "Keras_assignment.ipynb",
   "provenance": [],
   "version": "0.3.2"
  },
  "kernelspec": {
   "display_name": "Python 3",
   "language": "python",
   "name": "python3"
  },
  "language_info": {
   "codemirror_mode": {
    "name": "ipython",
    "version": 3
   },
   "file_extension": ".py",
   "mimetype": "text/x-python",
   "name": "python",
   "nbconvert_exporter": "python",
   "pygments_lexer": "ipython3",
   "version": "3.5.6"
  }
 },
 "nbformat": 4,
 "nbformat_minor": 1
}
